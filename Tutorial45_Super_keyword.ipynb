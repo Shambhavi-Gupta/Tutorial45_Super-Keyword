{
  "nbformat": 4,
  "nbformat_minor": 0,
  "metadata": {
    "colab": {
      "name": "Tutorial45_Super keyword.ipynb",
      "provenance": [],
      "authorship_tag": "ABX9TyO+ahf2MeD3g70MGC+NN39d",
      "include_colab_link": true
    },
    "kernelspec": {
      "name": "python3",
      "display_name": "Python 3"
    }
  },
  "cells": [
    {
      "cell_type": "markdown",
      "metadata": {
        "id": "view-in-github",
        "colab_type": "text"
      },
      "source": [
        "<a href=\"https://colab.research.google.com/github/Shambhavi-Gupta/Tutorial45_Super-Keyword/blob/main/Tutorial45_Super_keyword.ipynb\" target=\"_parent\"><img src=\"https://colab.research.google.com/assets/colab-badge.svg\" alt=\"Open In Colab\"/></a>"
      ]
    },
    {
      "cell_type": "code",
      "metadata": {
        "id": "1uL7XRvLp0yM"
      },
      "source": [
        "\"\"\"init is the first function which is\r\n",
        "called when instance is created\r\n",
        "super is a builtin function which refers the proxy of object\r\n",
        "which helps to refer the super class\"\"\"\r\n",
        "class one:\r\n",
        "    def __init__(self, name):\r\n",
        "        print('one __init__', name)\r\n",
        "\r\n",
        "class three:\r\n",
        "    def __init__(self, name):\r\n",
        "        print('three __init__', name)\r\n",
        "\r\n",
        "class two(three,one):\r\n",
        "    def __init__(self):\r\n",
        "        print('two __init__')\r\n",
        "        super().__init__('riya')\r\n",
        "        # three.__init__(self, 'five')\r\n",
        "        # one.__init__(self, 'seven')\r\n",
        "\r\n",
        "t = two()\r\n",
        "print(two.__mro__)\r\n"
      ],
      "execution_count": null,
      "outputs": []
    }
  ]
}